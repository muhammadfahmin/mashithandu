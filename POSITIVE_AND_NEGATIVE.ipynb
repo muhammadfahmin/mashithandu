{
  "nbformat": 4,
  "nbformat_minor": 0,
  "metadata": {
    "colab": {
      "name": "POSITIVE AND NEGATIVE.ipynb",
      "provenance": [],
      "authorship_tag": "ABX9TyO82A70thl6T+RFzKdbxDjK",
      "include_colab_link": true
    },
    "kernelspec": {
      "name": "python3",
      "display_name": "Python 3"
    },
    "language_info": {
      "name": "python"
    }
  },
  "cells": [
    {
      "cell_type": "markdown",
      "metadata": {
        "id": "view-in-github",
        "colab_type": "text"
      },
      "source": [
        "<a href=\"https://colab.research.google.com/github/muhammadfahmin/mashithandu/blob/main/POSITIVE_AND_NEGATIVE.ipynb\" target=\"_parent\"><img src=\"https://colab.research.google.com/assets/colab-badge.svg\" alt=\"Open In Colab\"/></a>"
      ]
    },
    {
      "cell_type": "code",
      "metadata": {
        "colab": {
          "base_uri": "https://localhost:8080/"
        },
        "id": "IML5QYrmtxKZ",
        "outputId": "3218c8f0-25ca-421e-cfd0-fccadba378dc"
      },
      "source": [
        "number=int(input(\"enter the number\"))\n",
        "if(number==0):\n",
        "  print (\"number is zero\")\n",
        "elif (number>0):\n",
        "  print (\"number is positive\")\n",
        "else: \n",
        "  print(\"number is negTIVE\")"
      ],
      "execution_count": 6,
      "outputs": [
        {
          "output_type": "stream",
          "name": "stdout",
          "text": [
            "enter the number-1\n",
            "number is negTIVE\n"
          ]
        }
      ]
    },
    {
      "cell_type": "code",
      "metadata": {
        "id": "dl1Z3vyrvatR"
      },
      "source": [
        ""
      ],
      "execution_count": null,
      "outputs": []
    }
  ]
}